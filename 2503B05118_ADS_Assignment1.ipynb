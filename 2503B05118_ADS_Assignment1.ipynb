{
  "nbformat": 4,
  "nbformat_minor": 0,
  "metadata": {
    "colab": {
      "provenance": []
    },
    "kernelspec": {
      "name": "python3",
      "display_name": "Python 3"
    },
    "language_info": {
      "name": "python"
    }
  },
  "cells": [
    {
      "cell_type": "markdown",
      "source": [
        "NAME : CHITTIMALLA PUJITHA\n",
        "\n",
        "DATE : 17 OCTOBER 2025    M.TECH (CSE)\n",
        "\n",
        "HTNO : 2503B05118\n",
        "\n",
        "ADS ASSIGNMENT - 1"
      ],
      "metadata": {
        "id": "Q2oPmaTwgAxZ"
      }
    },
    {
      "cell_type": "markdown",
      "source": [
        "2. (a) Use Python (statsmodels) to fit model and compare.\n",
        "(b) Interpret results (positive/negative slope, accuracy)"
      ],
      "metadata": {
        "id": "TCG-ZN4WTO1d"
      }
    },
    {
      "cell_type": "code",
      "source": [
        "# statsmodels OLS example\n",
        "import statsmodels.api as sm\n",
        "\n",
        "X = [10,12,14,16,18,20,22,24,26,28]\n",
        "Y = [300,310,320,330,345,360,370,390,420,450]\n",
        "\n",
        "# Make X a 2D array and add constant for intercept\n",
        "X_with_const = sm.add_constant(X)  # adds the column of 1s\n",
        "\n",
        "model = sm.OLS(Y, X_with_const).fit()\n",
        "print(model.summary())\n",
        "\n",
        "# Retrieve intercept and slope\n",
        "a = model.params[0]   # intercept\n",
        "b = model.params[1]   # slope\n",
        "print(f\"Intercept a = {a:.6f}\")\n",
        "print(f\"Slope b = {b:.6f}\")\n",
        "print(f\"R-squared = {model.rsquared:.6f}\")"
      ],
      "metadata": {
        "colab": {
          "base_uri": "https://localhost:8080/"
        },
        "id": "WpEWgPmnTQ0s",
        "outputId": "ba1f9b34-a2db-4c91-a144-63ef123bbf1d"
      },
      "execution_count": 1,
      "outputs": [
        {
          "output_type": "stream",
          "name": "stdout",
          "text": [
            "                            OLS Regression Results                            \n",
            "==============================================================================\n",
            "Dep. Variable:                      y   R-squared:                       0.955\n",
            "Model:                            OLS   Adj. R-squared:                  0.950\n",
            "Method:                 Least Squares   F-statistic:                     171.6\n",
            "Date:                Wed, 22 Oct 2025   Prob (F-statistic):           1.10e-06\n",
            "Time:                        05:55:03   Log-Likelihood:                -37.005\n",
            "No. Observations:                  10   AIC:                             78.01\n",
            "Df Residuals:                       8   BIC:                             78.61\n",
            "Df Model:                           1                                         \n",
            "Covariance Type:            nonrobust                                         \n",
            "==============================================================================\n",
            "                 coef    std err          t      P>|t|      [0.025      0.975]\n",
            "------------------------------------------------------------------------------\n",
            "const        209.5152     11.962     17.515      0.000     181.931     237.100\n",
            "x1             7.8939      0.603     13.099      0.000       6.504       9.284\n",
            "==============================================================================\n",
            "Omnibus:                        1.026   Durbin-Watson:                   0.581\n",
            "Prob(Omnibus):                  0.599   Jarque-Bera (JB):                0.781\n",
            "Skew:                           0.568   Prob(JB):                        0.677\n",
            "Kurtosis:                       2.236   Cond. No.                         68.7\n",
            "==============================================================================\n",
            "\n",
            "Notes:\n",
            "[1] Standard Errors assume that the covariance matrix of the errors is correctly specified.\n",
            "Intercept a = 209.515152\n",
            "Slope b = 7.893939\n",
            "R-squared = 0.955452\n"
          ]
        }
      ]
    },
    {
      "cell_type": "code",
      "source": [
        "from sklearn.linear_model import LinearRegression\n",
        "import numpy as np\n",
        "\n",
        "X = np.array([10,12,14,16,18,20,22,24,26,28]).reshape(-1,1)\n",
        "Y = np.array([300,310,320,330,345,360,370,390,420,450])\n",
        "\n",
        "model = LinearRegression().fit(X, Y)\n",
        "a = model.intercept_\n",
        "b = model.coef_[0]\n",
        "r2 = model.score(X, Y)  # R^2\n",
        "\n",
        "print(\"Intercept a =\", round(a,6))\n",
        "print(\"Slope b =\", round(b,6))\n",
        "print(\"R^2 =\", round(r2,6))"
      ],
      "metadata": {
        "colab": {
          "base_uri": "https://localhost:8080/"
        },
        "id": "SczV-2S-TuEI",
        "outputId": "03887ee8-f9a2-4fd4-a2b2-70933f53af09"
      },
      "execution_count": 2,
      "outputs": [
        {
          "output_type": "stream",
          "name": "stdout",
          "text": [
            "Intercept a = 209.515152\n",
            "Slope b = 7.893939\n",
            "R^2 = 0.955452\n"
          ]
        }
      ]
    },
    {
      "cell_type": "markdown",
      "source": [
        "3. Using Python, perform Linear Regression on the dataset attached in excel format."
      ],
      "metadata": {
        "id": "N4-I7T6rT2el"
      }
    },
    {
      "cell_type": "code",
      "source": [
        "import pandas as pd\n",
        "import statsmodels.api as sm\n",
        "\n",
        "# Load the Excel file\n",
        "df = pd.read_excel('/Experience_Salary.xlsx')\n",
        "\n",
        "# Define X and Y\n",
        "X = df['Experience_Years']\n",
        "Y = df['Salary_USD']\n",
        "\n",
        "# Add constant for intercept\n",
        "X_with_const = sm.add_constant(X)\n",
        "\n",
        "# Fit the model\n",
        "model = sm.OLS(Y, X_with_const).fit()\n",
        "print(model.summary())\n",
        "\n",
        "# Print coefficients correctly\n",
        "print(\"Intercept a =\", model.params['const'])\n",
        "print(\"Slope b =\", model.params['Experience_Years'])\n",
        "print(\"R^2 =\", model.rsquared)"
      ],
      "metadata": {
        "colab": {
          "base_uri": "https://localhost:8080/"
        },
        "id": "ldAAwLNFT-D2",
        "outputId": "755f424d-fac9-4b51-cceb-12efb95bde28"
      },
      "execution_count": 4,
      "outputs": [
        {
          "output_type": "stream",
          "name": "stdout",
          "text": [
            "                            OLS Regression Results                            \n",
            "==============================================================================\n",
            "Dep. Variable:             Salary_USD   R-squared:                       0.999\n",
            "Model:                            OLS   Adj. R-squared:                  0.999\n",
            "Method:                 Least Squares   F-statistic:                     9821.\n",
            "Date:                Wed, 22 Oct 2025   Prob (F-statistic):           4.21e-20\n",
            "Time:                        05:56:49   Log-Likelihood:                -112.51\n",
            "No. Observations:                  15   AIC:                             229.0\n",
            "Df Residuals:                      13   BIC:                             230.4\n",
            "Df Model:                           1                                         \n",
            "Covariance Type:            nonrobust                                         \n",
            "====================================================================================\n",
            "                       coef    std err          t      P>|t|      [0.025      0.975]\n",
            "------------------------------------------------------------------------------------\n",
            "const             3.118e+04    255.578    122.002      0.000    3.06e+04    3.17e+04\n",
            "Experience_Years  2785.7143     28.110     99.101      0.000    2724.987    2846.442\n",
            "==============================================================================\n",
            "Omnibus:                        1.992   Durbin-Watson:                   1.018\n",
            "Prob(Omnibus):                  0.369   Jarque-Bera (JB):                0.948\n",
            "Skew:                           0.616   Prob(JB):                        0.623\n",
            "Kurtosis:                       3.018   Cond. No.                         19.3\n",
            "==============================================================================\n",
            "\n",
            "Notes:\n",
            "[1] Standard Errors assume that the covariance matrix of the errors is correctly specified.\n",
            "Intercept a = 31180.95238095239\n",
            "Slope b = 2785.7142857142867\n",
            "R^2 = 0.998678059285977\n"
          ]
        }
      ]
    }
  ]
}